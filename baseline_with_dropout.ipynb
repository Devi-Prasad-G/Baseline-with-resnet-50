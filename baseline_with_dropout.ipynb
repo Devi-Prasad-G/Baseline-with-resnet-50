{
  "nbformat": 4,
  "nbformat_minor": 0,
  "metadata": {
    "colab": {
      "name": "baseline_with_dropout.ipynb",
      "provenance": [],
      "authorship_tag": "ABX9TyNQRk62esBCnoGi29kATCA2",
      "include_colab_link": true
    },
    "kernelspec": {
      "name": "python3",
      "display_name": "Python 3"
    },
    "language_info": {
      "name": "python"
    }
  },
  "cells": [
    {
      "cell_type": "markdown",
      "metadata": {
        "id": "view-in-github",
        "colab_type": "text"
      },
      "source": [
        "<a href=\"https://colab.research.google.com/github/Devi-Prasad-G/image_classification_problem_using_limited_data/blob/main/baseline_with_dropout.ipynb\" target=\"_parent\"><img src=\"https://colab.research.google.com/assets/colab-badge.svg\" alt=\"Open In Colab\"/></a>"
      ]
    },
    {
      "cell_type": "code",
      "execution_count": null,
      "metadata": {
        "id": "_fqU6qHH5Hhq"
      },
      "outputs": [],
      "source": [
        "!pip install tensorflow_addons\n",
        "import tensorflow as tf\n",
        "import keras\n",
        "import tensorflow_addons as tfa"
      ]
    },
    {
      "cell_type": "markdown",
      "source": [
        "## loading trained model and adding dropout layer"
      ],
      "metadata": {
        "id": "8GLC_QSr5X3l"
      }
    },
    {
      "cell_type": "code",
      "source": [
        "model = tf.keras.models.load_model(\"/content/drive/MyDrive/adv1/model_best.h5\") #best model"
      ],
      "metadata": {
        "id": "-2U_RHFl5QIX"
      },
      "execution_count": null,
      "outputs": []
    },
    {
      "cell_type": "code",
      "source": [
        "layer_name = \"conv5_block3_out\"\n",
        "r = 0.2\n",
        "model2 = tf.keras.Model(inputs=model.input, outputs=model.get_layer(layer_name).output)\n",
        "model2.trainable = False #so  that we freeze all weights of trained baseline\n",
        "\n",
        "inputs = tf.keras.Input(shape=(256, 256, 3))\n",
        "x = model2(inputs, training=False)\n",
        "x = tf.keras.layers.GlobalAveragePooling2D()(x)\n",
        "x = tf.keras.layers.Dropout(r)(x)  # dropout with r probability\n",
        "outputs = tf.keras.layers.Dense(1000,activation = \"softmax\",kernel_regularizer=l2(0.01), bias_regularizer=l2(0.01))(x)\n",
        "model_with_dropout = tf.keras.Model(inputs, outputs)\n",
        "model_with_dropout.summary()"
      ],
      "metadata": {
        "id": "urDPQXSv8sQw"
      },
      "execution_count": null,
      "outputs": []
    },
    {
      "cell_type": "markdown",
      "source": [
        "## Loading train data"
      ],
      "metadata": {
        "id": "V3qLdZbT6I_M"
      }
    },
    {
      "cell_type": "code",
      "source": [
        "!unzip /content/drive/MyDrive/train.zip -d /content # to unzip the training file in drive"
      ],
      "metadata": {
        "id": "akvk9-CI5QCa"
      },
      "execution_count": null,
      "outputs": []
    },
    {
      "cell_type": "code",
      "source": [
        "from keras.preprocessing.image import ImageDataGenerator\n",
        "train_datagen = ImageDataGenerator(horizontal_flip=True,\n",
        "                                  fill_mode='nearest',\n",
        "                                   validation_split=0.2)\n",
        "training_set = train_datagen.flow_from_directory('./train',\n",
        "                                                 target_size = (256, 256),\n",
        "                                                 batch_size = 32,\n",
        "                                                 class_mode = 'categorical',subset='training')\n",
        "\n",
        "validation_set = train_datagen.flow_from_directory('./train',\n",
        "                                                 target_size = (256, 256),\n",
        "                                                 batch_size = 32,\n",
        "                                                 class_mode = 'categorical',subset='validation')"
      ],
      "metadata": {
        "id": "TuyEHFKq5P__"
      },
      "execution_count": null,
      "outputs": []
    },
    {
      "cell_type": "markdown",
      "source": [
        "## model parameters and savepoints"
      ],
      "metadata": {
        "id": "iMoWBYMR6e-Z"
      }
    },
    {
      "cell_type": "code",
      "source": [
        "l_rate = 0.01\n",
        "wd = 0.001\n",
        "loss = tf.keras.losses.CategoricalCrossentropy()\n",
        "optim = tfa.optimizers.SGDW(learning_rate=l_rate, weight_decay=wd, momentum=0.9, nesterov = False, name = 'SGDW')\n",
        "#optim = tf.keras.optimizers.Adam()"
      ],
      "metadata": {
        "id": "gSyNDPo19jzo"
      },
      "execution_count": null,
      "outputs": []
    },
    {
      "cell_type": "code",
      "source": [
        "model_with_dropout.compile(loss=loss,\n",
        "              optimizer=optim,\n",
        "              metrics=['accuracy'])\n",
        "\n",
        "checkpoint = tf.keras.callbacks.ModelCheckpoint(\n",
        "    filepath=\"/content/drive/MyDrive/adv1/model_test_1.h5\",\n",
        "    monitor='val_accuracy',\n",
        "    mode='max',\n",
        "    save_best_only=True)"
      ],
      "metadata": {
        "id": "pVdUHpsn5P9v"
      },
      "execution_count": null,
      "outputs": []
    },
    {
      "cell_type": "markdown",
      "source": [
        "## Training the model"
      ],
      "metadata": {
        "id": "tPOFk5gU6zE_"
      }
    },
    {
      "cell_type": "code",
      "execution_count": null,
      "metadata": {
        "id": "QTVVEBImMW64"
      },
      "outputs": [],
      "source": [
        "model_with_dropout.fit(training_set, validation_data = validation_set, epochs=20,steps_per_epoch=training_set.samples//32,validation_steps=validation_set.samples //32,verbose=1,callbacks = [checkpoint])"
      ]
    },
    {
      "cell_type": "markdown",
      "source": [
        "## Fine-tuning the model"
      ],
      "metadata": {
        "id": "os3cpSVc9tzP"
      }
    },
    {
      "cell_type": "code",
      "source": [
        "model2.trainable = True\n",
        "model_with_dropout.summary()\n",
        "\n",
        "loss = tf.keras.losses.CategoricalCrossentropy()\n",
        "optim = tf.keras.optimizers.Adam(1e-5) # adding very low learning rate for fine tuning purposes\n",
        "\n",
        "model_with_dropout.compile(loss=loss,\n",
        "              optimizer=optim,\n",
        "              metrics=['accuracy'])\n",
        "\n",
        "checkpoint = tf.keras.callbacks.ModelCheckpoint(\n",
        "    filepath=\"/content/drive/MyDrive/adv1/model_test1_finetuning.h5\",\n",
        "    monitor='val_accuracy',\n",
        "    mode='max',\n",
        "    save_best_only=True)\n",
        "\n",
        "model_with_dropout.fit(training_set_cropped, validation_data = validation_set_cropped, epochs=10,steps_per_epoch=training_set.samples//32,validation_steps=validation_set.samples //32,verbose=1,callbacks = [checkpoint])"
      ],
      "metadata": {
        "id": "BbEpDjze9tUk"
      },
      "execution_count": null,
      "outputs": []
    },
    {
      "cell_type": "code",
      "source": [
        "model_with_dropout.save(\"/content/drive/MyDrive/adv/model_test1_final.h5\")"
      ],
      "metadata": {
        "id": "2SD8Qk1h5P3i"
      },
      "execution_count": null,
      "outputs": []
    }
  ]
}